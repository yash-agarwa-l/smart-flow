{
  "nbformat": 4,
  "nbformat_minor": 0,
  "metadata": {
    "colab": {
      "provenance": []
    },
    "kernelspec": {
      "name": "python3",
      "display_name": "Python 3"
    },
    "language_info": {
      "name": "python"
    }
  },
  "cells": [
    {
      "cell_type": "code",
      "execution_count": 1,
      "metadata": {
        "colab": {
          "base_uri": "https://localhost:8080/"
        },
        "id": "COrUuMos7EIk",
        "outputId": "8b8b9f77-7dae-4b4d-81f0-5045155773ab"
      },
      "outputs": [
        {
          "output_type": "stream",
          "name": "stdout",
          "text": [
            "Mounted at /content/drive\n",
            "             timestamp  density_north  density_south  density_east  \\\n",
            "0  2023-01-01 00:00:00       0.092116       0.434155      0.206124   \n",
            "1  2023-01-01 00:01:00       0.008046       0.426411      0.216333   \n",
            "2  2023-01-01 00:02:00       0.055668       0.499161      0.280999   \n",
            "3  2023-01-01 00:03:00       0.004533       0.457348      0.224563   \n",
            "4  2023-01-01 00:04:00       0.080436       0.425959      0.229743   \n",
            "\n",
            "   density_west  \n",
            "0      0.279817  \n",
            "1      0.266353  \n",
            "2      0.284039  \n",
            "3      0.270084  \n",
            "4      0.249114  \n"
          ]
        }
      ],
      "source": [
        "import pandas as pd\n",
        "from google.colab import drive\n",
        "\n",
        "drive.mount('/content/drive')\n",
        "\n",
        "df = pd.read_csv('/content/drive/MyDrive/synthetic_traffic_data.csv')\n",
        "\n",
        "print(df.head())"
      ]
    },
    {
      "cell_type": "code",
      "source": [
        "df['timestamp'] = pd.to_datetime(df['timestamp'])\n",
        "\n",
        "df['current_green_direction'] = df[['density_north', 'density_south', 'density_east', 'density_west']].idxmax(axis=1).str.replace('density_', '')\n",
        "df['current_green_duration'] = (df[['density_north', 'density_south', 'density_east', 'density_west']].max(axis=1) * 60).astype(int)\n",
        "\n",
        "df['next_green_direction'] = df['current_green_direction'].shift(-1).fillna('north')\n",
        "df['next_green_duration'] = df['current_green_duration'].shift(-1).fillna(30)\n",
        "\n",
        "df = df.iloc[:-1]"
      ],
      "metadata": {
        "id": "fOzeTu3K7FlR"
      },
      "execution_count": 2,
      "outputs": []
    },
    {
      "cell_type": "code",
      "source": [
        "import numpy as np\n",
        "\n",
        "df['hour'] = df['timestamp'].dt.hour\n",
        "df['time_sin'] = np.sin(2 * np.pi * df['hour']/24)\n",
        "df['time_cos'] = np.cos(2 * np.pi * df['hour']/24)\n",
        "\n",
        "direction_map = {'north':0, 'south':1, 'east':2, 'west':3}\n",
        "df['next_green_encoded'] = df['next_green_direction'].map(direction_map)\n",
        "\n",
        "duration_max = 60\n",
        "df['duration_normalized'] = df['next_green_duration'] / duration_max"
      ],
      "metadata": {
        "id": "k-fAHMRF7tFI"
      },
      "execution_count": 3,
      "outputs": []
    },
    {
      "cell_type": "code",
      "source": [
        "from sklearn.preprocessing import MinMaxScaler\n",
        "from sklearn.model_selection import train_test_split\n",
        "\n",
        "features = ['time_sin', 'time_cos', 'density_north', 'density_south',\n",
        "            'density_east', 'density_west', 'current_green_duration']\n",
        "X = df[features]\n",
        "\n",
        "\n",
        "y_dir = df['next_green_encoded']\n",
        "y_dur = df['duration_normalized']\n",
        "\n",
        "\n",
        "X_train, X_test, y_dir_train, y_dir_test, y_dur_train, y_dur_test = train_test_split(\n",
        "    X, y_dir, y_dur, test_size=0.2, random_state=42\n",
        ")\n",
        "\n",
        "\n",
        "scaler = MinMaxScaler()\n",
        "X_train = scaler.fit_transform(X_train)\n",
        "X_test = scaler.transform(X_test)\n",
        "\n",
        "\n",
        "X_train = X_train.reshape((X_train.shape[0], 1, X_train.shape[1]))\n",
        "X_test = X_test.reshape((X_test.shape[0], 1, X_test.shape[1]))"
      ],
      "metadata": {
        "id": "b7HVa5-v7v_w"
      },
      "execution_count": 4,
      "outputs": []
    },
    {
      "cell_type": "code",
      "source": [
        "from tensorflow.keras.models import Model\n",
        "from tensorflow.keras.layers import Input, LSTM, Dense\n",
        "\n",
        "inputs = Input(shape=(X_train.shape[1], X_train.shape[2]))\n",
        "\n",
        "\n",
        "x = LSTM(64, return_sequences=True)(inputs)\n",
        "x = LSTM(32)(x)\n",
        "\n",
        "\n",
        "direction_out = Dense(4, activation='softmax', name='direction')(x)\n",
        "duration_out = Dense(1, activation='sigmoid', name='duration')(x)\n",
        "\n",
        "model = Model(inputs=inputs, outputs=[direction_out, duration_out])\n",
        "\n",
        "model.compile(\n",
        "    optimizer='adam',\n",
        "    loss={\n",
        "        'direction': 'sparse_categorical_crossentropy',\n",
        "        'duration': 'mse'\n",
        "    },\n",
        "    metrics={'direction': 'accuracy'}\n",
        ")"
      ],
      "metadata": {
        "id": "DkStjhni70RC"
      },
      "execution_count": 5,
      "outputs": []
    },
    {
      "cell_type": "code",
      "source": [
        "history = model.fit(\n",
        "    X_train,\n",
        "    {'direction': y_dir_train, 'duration': y_dur_train},\n",
        "    epochs=50,\n",
        "    batch_size=32,\n",
        "    validation_data=(X_test, {'direction': y_dir_test, 'duration': y_dur_test}))"
      ],
      "metadata": {
        "colab": {
          "base_uri": "https://localhost:8080/"
        },
        "id": "JeSNeMIE75eK",
        "outputId": "06440c23-92db-4a28-cab3-0d0cb6b47af8"
      },
      "execution_count": 6,
      "outputs": [
        {
          "output_type": "stream",
          "name": "stdout",
          "text": [
            "Epoch 1/50\n",
            "\u001b[1m36/36\u001b[0m \u001b[32m━━━━━━━━━━━━━━━━━━━━\u001b[0m\u001b[37m\u001b[0m \u001b[1m5s\u001b[0m 22ms/step - direction_accuracy: 0.8019 - direction_loss: 1.3233 - duration_loss: 0.0231 - loss: 1.3463 - val_direction_accuracy: 0.9028 - val_direction_loss: 1.0148 - val_duration_loss: 0.0208 - val_loss: 1.0356\n",
            "Epoch 2/50\n",
            "\u001b[1m36/36\u001b[0m \u001b[32m━━━━━━━━━━━━━━━━━━━━\u001b[0m\u001b[37m\u001b[0m \u001b[1m1s\u001b[0m 7ms/step - direction_accuracy: 0.8909 - direction_loss: 0.8297 - duration_loss: 0.0169 - loss: 0.8466 - val_direction_accuracy: 0.9028 - val_direction_loss: 0.4007 - val_duration_loss: 0.0084 - val_loss: 0.4091\n",
            "Epoch 3/50\n",
            "\u001b[1m36/36\u001b[0m \u001b[32m━━━━━━━━━━━━━━━━━━━━\u001b[0m\u001b[37m\u001b[0m \u001b[1m0s\u001b[0m 7ms/step - direction_accuracy: 0.8958 - direction_loss: 0.4043 - duration_loss: 0.0092 - loss: 0.4134 - val_direction_accuracy: 0.9028 - val_direction_loss: 0.3504 - val_duration_loss: 0.0087 - val_loss: 0.3591\n",
            "Epoch 4/50\n",
            "\u001b[1m36/36\u001b[0m \u001b[32m━━━━━━━━━━━━━━━━━━━━\u001b[0m\u001b[37m\u001b[0m \u001b[1m0s\u001b[0m 8ms/step - direction_accuracy: 0.8933 - direction_loss: 0.3713 - duration_loss: 0.0092 - loss: 0.3804 - val_direction_accuracy: 0.9028 - val_direction_loss: 0.3253 - val_duration_loss: 0.0087 - val_loss: 0.3340\n",
            "Epoch 5/50\n",
            "\u001b[1m36/36\u001b[0m \u001b[32m━━━━━━━━━━━━━━━━━━━━\u001b[0m\u001b[37m\u001b[0m \u001b[1m1s\u001b[0m 11ms/step - direction_accuracy: 0.9079 - direction_loss: 0.3123 - duration_loss: 0.0092 - loss: 0.3215 - val_direction_accuracy: 0.9028 - val_direction_loss: 0.3061 - val_duration_loss: 0.0090 - val_loss: 0.3151\n",
            "Epoch 6/50\n",
            "\u001b[1m36/36\u001b[0m \u001b[32m━━━━━━━━━━━━━━━━━━━━\u001b[0m\u001b[37m\u001b[0m \u001b[1m1s\u001b[0m 11ms/step - direction_accuracy: 0.8958 - direction_loss: 0.3178 - duration_loss: 0.0089 - loss: 0.3267 - val_direction_accuracy: 0.9028 - val_direction_loss: 0.2795 - val_duration_loss: 0.0093 - val_loss: 0.2888\n",
            "Epoch 7/50\n",
            "\u001b[1m36/36\u001b[0m \u001b[32m━━━━━━━━━━━━━━━━━━━━\u001b[0m\u001b[37m\u001b[0m \u001b[1m1s\u001b[0m 10ms/step - direction_accuracy: 0.8947 - direction_loss: 0.2815 - duration_loss: 0.0093 - loss: 0.2909 - val_direction_accuracy: 0.9028 - val_direction_loss: 0.2481 - val_duration_loss: 0.0093 - val_loss: 0.2574\n",
            "Epoch 8/50\n",
            "\u001b[1m36/36\u001b[0m \u001b[32m━━━━━━━━━━━━━━━━━━━━\u001b[0m\u001b[37m\u001b[0m \u001b[1m1s\u001b[0m 14ms/step - direction_accuracy: 0.8891 - direction_loss: 0.2554 - duration_loss: 0.0091 - loss: 0.2645 - val_direction_accuracy: 0.9028 - val_direction_loss: 0.2198 - val_duration_loss: 0.0082 - val_loss: 0.2280\n",
            "Epoch 9/50\n",
            "\u001b[1m36/36\u001b[0m \u001b[32m━━━━━━━━━━━━━━━━━━━━\u001b[0m\u001b[37m\u001b[0m \u001b[1m1s\u001b[0m 12ms/step - direction_accuracy: 0.8923 - direction_loss: 0.2155 - duration_loss: 0.0081 - loss: 0.2237 - val_direction_accuracy: 0.9028 - val_direction_loss: 0.2000 - val_duration_loss: 0.0067 - val_loss: 0.2067\n",
            "Epoch 10/50\n",
            "\u001b[1m36/36\u001b[0m \u001b[32m━━━━━━━━━━━━━━━━━━━━\u001b[0m\u001b[37m\u001b[0m \u001b[1m0s\u001b[0m 7ms/step - direction_accuracy: 0.9045 - direction_loss: 0.1992 - duration_loss: 0.0066 - loss: 0.2058 - val_direction_accuracy: 0.9097 - val_direction_loss: 0.1898 - val_duration_loss: 0.0061 - val_loss: 0.1959\n",
            "Epoch 11/50\n",
            "\u001b[1m36/36\u001b[0m \u001b[32m━━━━━━━━━━━━━━━━━━━━\u001b[0m\u001b[37m\u001b[0m \u001b[1m0s\u001b[0m 6ms/step - direction_accuracy: 0.8944 - direction_loss: 0.2131 - duration_loss: 0.0066 - loss: 0.2197 - val_direction_accuracy: 0.9062 - val_direction_loss: 0.1883 - val_duration_loss: 0.0058 - val_loss: 0.1941\n",
            "Epoch 12/50\n",
            "\u001b[1m36/36\u001b[0m \u001b[32m━━━━━━━━━━━━━━━━━━━━\u001b[0m\u001b[37m\u001b[0m \u001b[1m0s\u001b[0m 7ms/step - direction_accuracy: 0.9162 - direction_loss: 0.1996 - duration_loss: 0.0058 - loss: 0.2053 - val_direction_accuracy: 0.8924 - val_direction_loss: 0.1834 - val_duration_loss: 0.0055 - val_loss: 0.1889\n",
            "Epoch 13/50\n",
            "\u001b[1m36/36\u001b[0m \u001b[32m━━━━━━━━━━━━━━━━━━━━\u001b[0m\u001b[37m\u001b[0m \u001b[1m0s\u001b[0m 7ms/step - direction_accuracy: 0.8996 - direction_loss: 0.2051 - duration_loss: 0.0057 - loss: 0.2108 - val_direction_accuracy: 0.9028 - val_direction_loss: 0.1824 - val_duration_loss: 0.0054 - val_loss: 0.1878\n",
            "Epoch 14/50\n",
            "\u001b[1m36/36\u001b[0m \u001b[32m━━━━━━━━━━━━━━━━━━━━\u001b[0m\u001b[37m\u001b[0m \u001b[1m0s\u001b[0m 7ms/step - direction_accuracy: 0.9213 - direction_loss: 0.1889 - duration_loss: 0.0053 - loss: 0.1942 - val_direction_accuracy: 0.9028 - val_direction_loss: 0.1824 - val_duration_loss: 0.0050 - val_loss: 0.1874\n",
            "Epoch 15/50\n",
            "\u001b[1m36/36\u001b[0m \u001b[32m━━━━━━━━━━━━━━━━━━━━\u001b[0m\u001b[37m\u001b[0m \u001b[1m0s\u001b[0m 6ms/step - direction_accuracy: 0.9257 - direction_loss: 0.1769 - duration_loss: 0.0052 - loss: 0.1821 - val_direction_accuracy: 0.8993 - val_direction_loss: 0.1822 - val_duration_loss: 0.0047 - val_loss: 0.1870\n",
            "Epoch 16/50\n",
            "\u001b[1m36/36\u001b[0m \u001b[32m━━━━━━━━━━━━━━━━━━━━\u001b[0m\u001b[37m\u001b[0m \u001b[1m0s\u001b[0m 6ms/step - direction_accuracy: 0.9300 - direction_loss: 0.1801 - duration_loss: 0.0045 - loss: 0.1846 - val_direction_accuracy: 0.9167 - val_direction_loss: 0.1841 - val_duration_loss: 0.0044 - val_loss: 0.1885\n",
            "Epoch 17/50\n",
            "\u001b[1m36/36\u001b[0m \u001b[32m━━━━━━━━━━━━━━━━━━━━\u001b[0m\u001b[37m\u001b[0m \u001b[1m0s\u001b[0m 6ms/step - direction_accuracy: 0.9270 - direction_loss: 0.1850 - duration_loss: 0.0043 - loss: 0.1893 - val_direction_accuracy: 0.9062 - val_direction_loss: 0.1821 - val_duration_loss: 0.0040 - val_loss: 0.1861\n",
            "Epoch 18/50\n",
            "\u001b[1m36/36\u001b[0m \u001b[32m━━━━━━━━━━━━━━━━━━━━\u001b[0m\u001b[37m\u001b[0m \u001b[1m0s\u001b[0m 7ms/step - direction_accuracy: 0.9381 - direction_loss: 0.1681 - duration_loss: 0.0040 - loss: 0.1721 - val_direction_accuracy: 0.9132 - val_direction_loss: 0.1824 - val_duration_loss: 0.0037 - val_loss: 0.1861\n",
            "Epoch 19/50\n",
            "\u001b[1m36/36\u001b[0m \u001b[32m━━━━━━━━━━━━━━━━━━━━\u001b[0m\u001b[37m\u001b[0m \u001b[1m0s\u001b[0m 7ms/step - direction_accuracy: 0.9298 - direction_loss: 0.1858 - duration_loss: 0.0039 - loss: 0.1897 - val_direction_accuracy: 0.9097 - val_direction_loss: 0.1844 - val_duration_loss: 0.0034 - val_loss: 0.1878\n",
            "Epoch 20/50\n",
            "\u001b[1m36/36\u001b[0m \u001b[32m━━━━━━━━━━━━━━━━━━━━\u001b[0m\u001b[37m\u001b[0m \u001b[1m0s\u001b[0m 7ms/step - direction_accuracy: 0.9184 - direction_loss: 0.1916 - duration_loss: 0.0040 - loss: 0.1956 - val_direction_accuracy: 0.9062 - val_direction_loss: 0.1882 - val_duration_loss: 0.0032 - val_loss: 0.1914\n",
            "Epoch 21/50\n",
            "\u001b[1m36/36\u001b[0m \u001b[32m━━━━━━━━━━━━━━━━━━━━\u001b[0m\u001b[37m\u001b[0m \u001b[1m0s\u001b[0m 7ms/step - direction_accuracy: 0.9024 - direction_loss: 0.2116 - duration_loss: 0.0031 - loss: 0.2147 - val_direction_accuracy: 0.9062 - val_direction_loss: 0.1833 - val_duration_loss: 0.0029 - val_loss: 0.1861\n",
            "Epoch 22/50\n",
            "\u001b[1m36/36\u001b[0m \u001b[32m━━━━━━━━━━━━━━━━━━━━\u001b[0m\u001b[37m\u001b[0m \u001b[1m0s\u001b[0m 7ms/step - direction_accuracy: 0.9058 - direction_loss: 0.2007 - duration_loss: 0.0029 - loss: 0.2036 - val_direction_accuracy: 0.9062 - val_direction_loss: 0.1828 - val_duration_loss: 0.0028 - val_loss: 0.1856\n",
            "Epoch 23/50\n",
            "\u001b[1m36/36\u001b[0m \u001b[32m━━━━━━━━━━━━━━━━━━━━\u001b[0m\u001b[37m\u001b[0m \u001b[1m0s\u001b[0m 7ms/step - direction_accuracy: 0.9283 - direction_loss: 0.1691 - duration_loss: 0.0028 - loss: 0.1719 - val_direction_accuracy: 0.8993 - val_direction_loss: 0.1823 - val_duration_loss: 0.0026 - val_loss: 0.1849\n",
            "Epoch 24/50\n",
            "\u001b[1m36/36\u001b[0m \u001b[32m━━━━━━━━━━━━━━━━━━━━\u001b[0m\u001b[37m\u001b[0m \u001b[1m0s\u001b[0m 7ms/step - direction_accuracy: 0.9305 - direction_loss: 0.1735 - duration_loss: 0.0027 - loss: 0.1762 - val_direction_accuracy: 0.9062 - val_direction_loss: 0.1819 - val_duration_loss: 0.0025 - val_loss: 0.1844\n",
            "Epoch 25/50\n",
            "\u001b[1m36/36\u001b[0m \u001b[32m━━━━━━━━━━━━━━━━━━━━\u001b[0m\u001b[37m\u001b[0m \u001b[1m0s\u001b[0m 7ms/step - direction_accuracy: 0.9219 - direction_loss: 0.2035 - duration_loss: 0.0026 - loss: 0.2061 - val_direction_accuracy: 0.9028 - val_direction_loss: 0.1820 - val_duration_loss: 0.0023 - val_loss: 0.1844\n",
            "Epoch 26/50\n",
            "\u001b[1m36/36\u001b[0m \u001b[32m━━━━━━━━━━━━━━━━━━━━\u001b[0m\u001b[37m\u001b[0m \u001b[1m0s\u001b[0m 7ms/step - direction_accuracy: 0.9272 - direction_loss: 0.1803 - duration_loss: 0.0025 - loss: 0.1828 - val_direction_accuracy: 0.9062 - val_direction_loss: 0.1831 - val_duration_loss: 0.0023 - val_loss: 0.1854\n",
            "Epoch 27/50\n",
            "\u001b[1m36/36\u001b[0m \u001b[32m━━━━━━━━━━━━━━━━━━━━\u001b[0m\u001b[37m\u001b[0m \u001b[1m0s\u001b[0m 7ms/step - direction_accuracy: 0.9210 - direction_loss: 0.1898 - duration_loss: 0.0027 - loss: 0.1924 - val_direction_accuracy: 0.9167 - val_direction_loss: 0.1820 - val_duration_loss: 0.0024 - val_loss: 0.1844\n",
            "Epoch 28/50\n",
            "\u001b[1m36/36\u001b[0m \u001b[32m━━━━━━━━━━━━━━━━━━━━\u001b[0m\u001b[37m\u001b[0m \u001b[1m0s\u001b[0m 8ms/step - direction_accuracy: 0.9215 - direction_loss: 0.2250 - duration_loss: 0.0027 - loss: 0.2277 - val_direction_accuracy: 0.9062 - val_direction_loss: 0.1852 - val_duration_loss: 0.0023 - val_loss: 0.1875\n",
            "Epoch 29/50\n",
            "\u001b[1m36/36\u001b[0m \u001b[32m━━━━━━━━━━━━━━━━━━━━\u001b[0m\u001b[37m\u001b[0m \u001b[1m0s\u001b[0m 7ms/step - direction_accuracy: 0.9171 - direction_loss: 0.1803 - duration_loss: 0.0027 - loss: 0.1830 - val_direction_accuracy: 0.9132 - val_direction_loss: 0.1817 - val_duration_loss: 0.0023 - val_loss: 0.1841\n",
            "Epoch 30/50\n",
            "\u001b[1m36/36\u001b[0m \u001b[32m━━━━━━━━━━━━━━━━━━━━\u001b[0m\u001b[37m\u001b[0m \u001b[1m0s\u001b[0m 7ms/step - direction_accuracy: 0.9252 - direction_loss: 0.1902 - duration_loss: 0.0026 - loss: 0.1928 - val_direction_accuracy: 0.9132 - val_direction_loss: 0.1831 - val_duration_loss: 0.0023 - val_loss: 0.1854\n",
            "Epoch 31/50\n",
            "\u001b[1m36/36\u001b[0m \u001b[32m━━━━━━━━━━━━━━━━━━━━\u001b[0m\u001b[37m\u001b[0m \u001b[1m0s\u001b[0m 7ms/step - direction_accuracy: 0.9360 - direction_loss: 0.1750 - duration_loss: 0.0026 - loss: 0.1776 - val_direction_accuracy: 0.9132 - val_direction_loss: 0.1816 - val_duration_loss: 0.0023 - val_loss: 0.1839\n",
            "Epoch 32/50\n",
            "\u001b[1m36/36\u001b[0m \u001b[32m━━━━━━━━━━━━━━━━━━━━\u001b[0m\u001b[37m\u001b[0m \u001b[1m0s\u001b[0m 7ms/step - direction_accuracy: 0.9160 - direction_loss: 0.2147 - duration_loss: 0.0026 - loss: 0.2173 - val_direction_accuracy: 0.9167 - val_direction_loss: 0.1820 - val_duration_loss: 0.0024 - val_loss: 0.1844\n",
            "Epoch 33/50\n",
            "\u001b[1m36/36\u001b[0m \u001b[32m━━━━━━━━━━━━━━━━━━━━\u001b[0m\u001b[37m\u001b[0m \u001b[1m0s\u001b[0m 7ms/step - direction_accuracy: 0.9160 - direction_loss: 0.1919 - duration_loss: 0.0025 - loss: 0.1944 - val_direction_accuracy: 0.9062 - val_direction_loss: 0.1813 - val_duration_loss: 0.0023 - val_loss: 0.1836\n",
            "Epoch 34/50\n",
            "\u001b[1m36/36\u001b[0m \u001b[32m━━━━━━━━━━━━━━━━━━━━\u001b[0m\u001b[37m\u001b[0m \u001b[1m0s\u001b[0m 7ms/step - direction_accuracy: 0.9238 - direction_loss: 0.1894 - duration_loss: 0.0026 - loss: 0.1921 - val_direction_accuracy: 0.8993 - val_direction_loss: 0.1897 - val_duration_loss: 0.0023 - val_loss: 0.1920\n",
            "Epoch 35/50\n",
            "\u001b[1m36/36\u001b[0m \u001b[32m━━━━━━━━━━━━━━━━━━━━\u001b[0m\u001b[37m\u001b[0m \u001b[1m0s\u001b[0m 7ms/step - direction_accuracy: 0.9145 - direction_loss: 0.1786 - duration_loss: 0.0027 - loss: 0.1813 - val_direction_accuracy: 0.9132 - val_direction_loss: 0.1837 - val_duration_loss: 0.0023 - val_loss: 0.1860\n",
            "Epoch 36/50\n",
            "\u001b[1m36/36\u001b[0m \u001b[32m━━━━━━━━━━━━━━━━━━━━\u001b[0m\u001b[37m\u001b[0m \u001b[1m0s\u001b[0m 7ms/step - direction_accuracy: 0.9144 - direction_loss: 0.1873 - duration_loss: 0.0026 - loss: 0.1899 - val_direction_accuracy: 0.9167 - val_direction_loss: 0.1812 - val_duration_loss: 0.0022 - val_loss: 0.1835\n",
            "Epoch 37/50\n",
            "\u001b[1m36/36\u001b[0m \u001b[32m━━━━━━━━━━━━━━━━━━━━\u001b[0m\u001b[37m\u001b[0m \u001b[1m0s\u001b[0m 6ms/step - direction_accuracy: 0.9021 - direction_loss: 0.1952 - duration_loss: 0.0024 - loss: 0.1977 - val_direction_accuracy: 0.9132 - val_direction_loss: 0.1837 - val_duration_loss: 0.0023 - val_loss: 0.1859\n",
            "Epoch 38/50\n",
            "\u001b[1m36/36\u001b[0m \u001b[32m━━━━━━━━━━━━━━━━━━━━\u001b[0m\u001b[37m\u001b[0m \u001b[1m0s\u001b[0m 7ms/step - direction_accuracy: 0.9168 - direction_loss: 0.1860 - duration_loss: 0.0029 - loss: 0.1889 - val_direction_accuracy: 0.9097 - val_direction_loss: 0.1852 - val_duration_loss: 0.0022 - val_loss: 0.1875\n",
            "Epoch 39/50\n",
            "\u001b[1m36/36\u001b[0m \u001b[32m━━━━━━━━━━━━━━━━━━━━\u001b[0m\u001b[37m\u001b[0m \u001b[1m0s\u001b[0m 8ms/step - direction_accuracy: 0.9215 - direction_loss: 0.1804 - duration_loss: 0.0026 - loss: 0.1830 - val_direction_accuracy: 0.9097 - val_direction_loss: 0.1811 - val_duration_loss: 0.0022 - val_loss: 0.1833\n",
            "Epoch 40/50\n",
            "\u001b[1m36/36\u001b[0m \u001b[32m━━━━━━━━━━━━━━━━━━━━\u001b[0m\u001b[37m\u001b[0m \u001b[1m0s\u001b[0m 7ms/step - direction_accuracy: 0.9224 - direction_loss: 0.1801 - duration_loss: 0.0024 - loss: 0.1826 - val_direction_accuracy: 0.9132 - val_direction_loss: 0.1807 - val_duration_loss: 0.0022 - val_loss: 0.1830\n",
            "Epoch 41/50\n",
            "\u001b[1m36/36\u001b[0m \u001b[32m━━━━━━━━━━━━━━━━━━━━\u001b[0m\u001b[37m\u001b[0m \u001b[1m0s\u001b[0m 7ms/step - direction_accuracy: 0.9305 - direction_loss: 0.1655 - duration_loss: 0.0025 - loss: 0.1680 - val_direction_accuracy: 0.9201 - val_direction_loss: 0.1806 - val_duration_loss: 0.0023 - val_loss: 0.1830\n",
            "Epoch 42/50\n",
            "\u001b[1m36/36\u001b[0m \u001b[32m━━━━━━━━━━━━━━━━━━━━\u001b[0m\u001b[37m\u001b[0m \u001b[1m0s\u001b[0m 7ms/step - direction_accuracy: 0.9278 - direction_loss: 0.1770 - duration_loss: 0.0028 - loss: 0.1798 - val_direction_accuracy: 0.9062 - val_direction_loss: 0.1812 - val_duration_loss: 0.0023 - val_loss: 0.1835\n",
            "Epoch 43/50\n",
            "\u001b[1m36/36\u001b[0m \u001b[32m━━━━━━━━━━━━━━━━━━━━\u001b[0m\u001b[37m\u001b[0m \u001b[1m0s\u001b[0m 7ms/step - direction_accuracy: 0.9238 - direction_loss: 0.1948 - duration_loss: 0.0026 - loss: 0.1974 - val_direction_accuracy: 0.9062 - val_direction_loss: 0.1808 - val_duration_loss: 0.0022 - val_loss: 0.1830\n",
            "Epoch 44/50\n",
            "\u001b[1m36/36\u001b[0m \u001b[32m━━━━━━━━━━━━━━━━━━━━\u001b[0m\u001b[37m\u001b[0m \u001b[1m0s\u001b[0m 12ms/step - direction_accuracy: 0.9156 - direction_loss: 0.2098 - duration_loss: 0.0026 - loss: 0.2124 - val_direction_accuracy: 0.9167 - val_direction_loss: 0.1812 - val_duration_loss: 0.0022 - val_loss: 0.1834\n",
            "Epoch 45/50\n",
            "\u001b[1m36/36\u001b[0m \u001b[32m━━━━━━━━━━━━━━━━━━━━\u001b[0m\u001b[37m\u001b[0m \u001b[1m0s\u001b[0m 12ms/step - direction_accuracy: 0.9342 - direction_loss: 0.1852 - duration_loss: 0.0024 - loss: 0.1876 - val_direction_accuracy: 0.9167 - val_direction_loss: 0.1818 - val_duration_loss: 0.0023 - val_loss: 0.1841\n",
            "Epoch 46/50\n",
            "\u001b[1m36/36\u001b[0m \u001b[32m━━━━━━━━━━━━━━━━━━━━\u001b[0m\u001b[37m\u001b[0m \u001b[1m1s\u001b[0m 10ms/step - direction_accuracy: 0.9324 - direction_loss: 0.1781 - duration_loss: 0.0025 - loss: 0.1806 - val_direction_accuracy: 0.9167 - val_direction_loss: 0.1811 - val_duration_loss: 0.0022 - val_loss: 0.1833\n",
            "Epoch 47/50\n",
            "\u001b[1m36/36\u001b[0m \u001b[32m━━━━━━━━━━━━━━━━━━━━\u001b[0m\u001b[37m\u001b[0m \u001b[1m0s\u001b[0m 11ms/step - direction_accuracy: 0.9377 - direction_loss: 0.1572 - duration_loss: 0.0026 - loss: 0.1598 - val_direction_accuracy: 0.9097 - val_direction_loss: 0.1842 - val_duration_loss: 0.0022 - val_loss: 0.1864\n",
            "Epoch 48/50\n",
            "\u001b[1m36/36\u001b[0m \u001b[32m━━━━━━━━━━━━━━━━━━━━\u001b[0m\u001b[37m\u001b[0m \u001b[1m0s\u001b[0m 11ms/step - direction_accuracy: 0.9180 - direction_loss: 0.1913 - duration_loss: 0.0025 - loss: 0.1938 - val_direction_accuracy: 0.9097 - val_direction_loss: 0.1807 - val_duration_loss: 0.0022 - val_loss: 0.1829\n",
            "Epoch 49/50\n",
            "\u001b[1m36/36\u001b[0m \u001b[32m━━━━━━━━━━━━━━━━━━━━\u001b[0m\u001b[37m\u001b[0m \u001b[1m1s\u001b[0m 14ms/step - direction_accuracy: 0.9340 - direction_loss: 0.1834 - duration_loss: 0.0026 - loss: 0.1861 - val_direction_accuracy: 0.9097 - val_direction_loss: 0.1797 - val_duration_loss: 0.0023 - val_loss: 0.1820\n",
            "Epoch 50/50\n",
            "\u001b[1m36/36\u001b[0m \u001b[32m━━━━━━━━━━━━━━━━━━━━\u001b[0m\u001b[37m\u001b[0m \u001b[1m0s\u001b[0m 10ms/step - direction_accuracy: 0.9319 - direction_loss: 0.1859 - duration_loss: 0.0026 - loss: 0.1885 - val_direction_accuracy: 0.9132 - val_direction_loss: 0.1829 - val_duration_loss: 0.0022 - val_loss: 0.1852\n"
          ]
        }
      ]
    },
    {
      "cell_type": "code",
      "source": [
        "def predict_phase(current_state):\n",
        "    \"\"\"\n",
        "    current_state format:\n",
        "    {\n",
        "        'time': '08:30:00',  # String or datetime\n",
        "        'densities': [0.7, 0.6, 0.4, 0.5],  # N,S,E,W\n",
        "        'current_duration': 45  # Current green duration\n",
        "    }\n",
        "    \"\"\"\n",
        "\n",
        "    time = pd.to_datetime(current_state['time'])\n",
        "    features = np.array([\n",
        "        np.sin(2 * np.pi * time.hour/24),\n",
        "        np.cos(2 * np.pi * time.hour/24),\n",
        "        *current_state['densities'],\n",
        "        current_state['current_duration']\n",
        "    ]).reshape(1, 1, -1)\n",
        "\n",
        "\n",
        "    dir_probs, dur_norm = model.predict(features)\n",
        "\n",
        "\n",
        "    directions = ['north', 'south', 'east', 'west']\n",
        "    next_dir = directions[np.argmax(dir_probs)]\n",
        "    next_dur = int(dur_norm[0][0] * 60)\n",
        "\n",
        "    return {'direction': next_dir, 'duration': max(15, min(60, next_dur))}\n",
        "\n",
        "# Example\n",
        "print(predict_phase({\n",
        "    'time': '08:30:00',\n",
        "    'densities': [0.8, 0.6, 0.3, 0.4],\n",
        "    'current_duration': 30\n",
        "}))"
      ],
      "metadata": {
        "colab": {
          "base_uri": "https://localhost:8080/"
        },
        "id": "7mLgUtW78ELL",
        "outputId": "aec94738-858b-44e7-a655-ebe9da909895"
      },
      "execution_count": 7,
      "outputs": [
        {
          "output_type": "stream",
          "name": "stdout",
          "text": [
            "\u001b[1m1/1\u001b[0m \u001b[32m━━━━━━━━━━━━━━━━━━━━\u001b[0m\u001b[37m\u001b[0m \u001b[1m0s\u001b[0m 348ms/step\n",
            "{'direction': 'south', 'duration': 48}\n"
          ]
        }
      ]
    }
  ]
}